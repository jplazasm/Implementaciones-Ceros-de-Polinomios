{
 "cells": [
  {
   "cell_type": "code",
   "execution_count": 1,
   "id": "2a6a9126",
   "metadata": {},
   "outputs": [],
   "source": [
    "#Librerías\n",
    "import numpy as np"
   ]
  },
  {
   "cell_type": "code",
   "execution_count": 2,
   "id": "def49b5f",
   "metadata": {},
   "outputs": [],
   "source": [
    "#Forma polinomial\n",
    "class Polynomial:\n",
    "    def __init__(self, coefficients,z0):\n",
    "        \n",
    "        self.coeffs=coefficients\n",
    "        self.point= z0\n",
    "        \n",
    "    def __str__(self):\n",
    "        out = ''\n",
    "        size = len(self.coeffs)\n",
    "        point = self.point\n",
    "        \n",
    "        for i in range(size-1):    \n",
    "            if self.coeffs[i] != 0:\n",
    "                out += ' + %s*(z-%s)^%d' % (self.coeffs[i], point,size-i-1) \n",
    "                \n",
    "        out += ' + %s' % (self.coeffs[-1])\n",
    "        out = out.replace('+ -', '- ')\n",
    "        out = out.replace('--', '+')\n",
    "        out = out.replace(' 1*', ' ')\n",
    "        out = out.replace(' *1', ' ')\n",
    "        out = out.replace(')^1 ', ') ')\n",
    "        out = out.replace('(z-0)', 'z')\n",
    "        out = out.replace('.0*', '*')    \n",
    "            \n",
    "        if out[0:3] == ' + ': \n",
    "            out = out[3:]\n",
    "            \n",
    "        if out[0:3] == ' - ':\n",
    "            out = '-' + out[3:]\n",
    "        return out\n",
    "    \n",
    "#Forma factorizada\n",
    "class Factorization:\n",
    "    def __init__(self, roots, coefficients):  \n",
    "        self.roots = roots\n",
    "        self.coeffs = coefficients\n",
    "    def __str__(self):\n",
    "        \n",
    "        if self.coeffs[0] != 0:\n",
    "            out = '%s' % self.coeffs[0]\n",
    "            out = out.replace('j)','*i)')\n",
    "            size = len(self.roots)  \n",
    "            for i in range(size):\n",
    "                    out += '(z - %s - %s*i)' % (self.roots[i].real, self.roots[i].imag)        \n",
    "            out = out.replace('- -', '+ ')\n",
    "            out = out.replace(' - 0.0*i)', ')')\n",
    "            out = out.replace(' + 0.0*i)', ')')\n",
    "            out = out.replace(' - 0.0','')\n",
    "            out = out.replace('1.0*i','i')\n",
    "            out = out.replace('1(','(')\n",
    "        else:\n",
    "            out = '0'\n",
    "        return out"
   ]
  },
  {
   "cell_type": "code",
   "execution_count": 3,
   "id": "468dd0a2",
   "metadata": {},
   "outputs": [],
   "source": [
    "#Algoritmo de Laguerre-Horner\n",
    "def laguerre_horner(coeffs, z0, mydel, max_iter = 200):\n",
    "    '''p(x) = 0 usando el método de Laguerre\n",
    "    ----------\n",
    "    coeffs : vector de coeficientes, z0 : Aproximación inicial, \n",
    "    mydel : Tolerancia al incremento, max_iter : Número maximo de iteraciones\n",
    "    ----------  '''\n",
    "    \n",
    "    z_0 = [z0][:]\n",
    "    z = z0\n",
    "    for k in range(1,max_iter):\n",
    "        a = coeffs[0]\n",
    "        b = 0\n",
    "        c = 0\n",
    "        for j in range(1,len(coeffs)):\n",
    "            c = b +z0*c\n",
    "            b = a + z0*b\n",
    "            a = z0*a + coeffs[j]\n",
    "        c = 2*c\n",
    "        if a == 0:\n",
    "            return z\n",
    "        A = -b/a\n",
    "        B = A**2-c/a\n",
    "        n = len(coeffs)-1\n",
    "        if abs((A+np.sqrt((n-1)*(n*B-A**2)))/n) >= abs((A-np.sqrt((n-1)*(n*B-A**2)))/n):\n",
    "            C = (A+np.sqrt((n-1)*(n*B-A**2)))/n\n",
    "        else:\n",
    "            C = (A-np.sqrt((n-1)*(n*B-A**2)))/n\n",
    "        z = z+1/C\n",
    "        #print( 'z(',k,')=', z) #imprimir cada iteración del algoritmo    \n",
    "        if abs(z-z0) < mydel :\n",
    "            return z\n",
    "        z0 = z\n",
    "    print('Número máximo de iteraciones alcanzado')\n",
    "    return None"
   ]
  },
  {
   "cell_type": "code",
   "execution_count": 4,
   "id": "eafb684f",
   "metadata": {},
   "outputs": [],
   "source": [
    "#Deflación de p(z) entre (z-z0)\n",
    "def deflacion(coeffs,z0):\n",
    "    for k in range(1,len(coeffs)):\n",
    "        coeffs[k] = z0*coeffs[k-1] + coeffs[k]\n",
    "    coeffs.pop(-1)\n",
    "    return coeffs"
   ]
  },
  {
   "cell_type": "code",
   "execution_count": 5,
   "id": "65544be9",
   "metadata": {},
   "outputs": [],
   "source": [
    "def laguerre_horner_deflacion(coeffs, z0, r=5, M=20):\n",
    "    coefficients = coeffs[:]\n",
    "    roots = []\n",
    "    if len(coefficients) >= 8: \n",
    "        print('Aplicando el algoritmo de Laguerre-Horner se obtiene que el polinomio \\n')\n",
    "    else:\n",
    "        print('Aplicando el algoritmo de Laguerre-Horner se obtiene que el polinomio', Polynomial(coefficients, 0), '\\n')\n",
    "    for i in range(1,len(coeffs)):\n",
    "        z = laguerre_horner(coeffs, z0, 1e-6)\n",
    "        z = round(z.real,4)+round(z.imag,4)*1j\n",
    "        z = laguerre_horner(coeffs, z, 1e-8)\n",
    "        z = round(z.real,r)+round(z.imag,r)*1j\n",
    "        coeffs = deflacion(coeffs,z)\n",
    "        roots.append(z)\n",
    "        print('\\xb7','tiene un cero en el punto z =', round(z.real,4)+round(z.imag,4)*1j,'\\n')"
   ]
  },
  {
   "cell_type": "code",
   "execution_count": 6,
   "id": "6187f860",
   "metadata": {},
   "outputs": [
    {
     "name": "stdout",
     "output_type": "stream",
     "text": [
      "Aplicando el algoritmo de Laguerre-Horner se obtiene que el polinomio (-2+8j)*z^4 + 0.8*z^2 + (-1-8.5j)*z - 1 \n",
      "\n",
      "· tiene un cero en el punto z = (1.0139-0.1281j) \n",
      "\n",
      "· tiene un cero en el punto z = (-0.014+0.1174j) \n",
      "\n",
      "· tiene un cero en el punto z = (-0.366+0.8676j) \n",
      "\n",
      "· tiene un cero en el punto z = (-0.634-0.8568j) \n",
      "\n"
     ]
    }
   ],
   "source": [
    "#Ejemplo de uso\n",
    "coeffs = [-2+8*1j, 0, 4/5, -1-8.5*1j, -1]\n",
    "z0 = 1+0*1j\n",
    "laguerre_horner_deflacion(coeffs, z0)"
   ]
  },
  {
   "cell_type": "code",
   "execution_count": 7,
   "id": "1ff3e5be",
   "metadata": {},
   "outputs": [],
   "source": [
    "def factorizacion(coeffs, z0, r=7, M=20):\n",
    "    coefficients = coeffs[:]\n",
    "    if coeffs[0] != 0:\n",
    "        coeffs = [x /coeffs[0] for x in coeffs]\n",
    "    else:\n",
    "        return print('Error! El primer coeficiente es 0')\n",
    "    roots = []\n",
    "    if len(coefficients) >= 8: \n",
    "        print(\"La factorización del polinomio es \\n\")\n",
    "    else:\n",
    "        print(\"La factorización del polinomio\", Polynomial(coefficients, 0),\"es \\n\")\n",
    "    for i in range(1,len(coeffs)):\n",
    "        z = laguerre_horner(coeffs, z0, 1e-6)\n",
    "        z = round(z.real,4)+round(z.imag,4)*1j\n",
    "        z = laguerre_horner(coeffs, z, 1e-8)\n",
    "        z = round(z.real,r)+round(z.imag,r)*1j\n",
    "        coeffs = deflacion(coeffs,z)\n",
    "        roots.append(z)\n",
    "    return print(Factorization(roots,coefficients), \"\\n\")"
   ]
  },
  {
   "cell_type": "code",
   "execution_count": 8,
   "id": "4e43c05f",
   "metadata": {
    "scrolled": true
   },
   "outputs": [
    {
     "name": "stdout",
     "output_type": "stream",
     "text": [
      "La factorización del polinomio (-2+8j)*z^4 + 0.8*z^2 + (-1-8.5j)*z - 1 es \n",
      "\n",
      "(-2+8*i)(z - 1.0139124 + 0.1281285*i)(z + 0.0139789 - 0.1174063*i)(z + 0.3659872 - 0.8675475*i)(z + 0.6339463 + 0.8568253*i) \n",
      "\n"
     ]
    }
   ],
   "source": [
    "#Ejemplo de uso\n",
    "coeffs = [-2+8*1j, 0, 4/5, -1-8.5*1j, -1]\n",
    "z0 = 1+0*1j\n",
    "factorizacion(coeffs, z0)"
   ]
  },
  {
   "cell_type": "code",
   "execution_count": 9,
   "id": "8572a603",
   "metadata": {},
   "outputs": [
    {
     "name": "stdout",
     "output_type": "stream",
     "text": [
      "Aplicando el algoritmo de Laguerre-Horner se obtiene que el polinomio \n",
      "\n",
      "· tiene un cero en el punto z = (1+0j) \n",
      "\n",
      "· tiene un cero en el punto z = (2+0j) \n",
      "\n",
      "· tiene un cero en el punto z = (3+0j) \n",
      "\n",
      "· tiene un cero en el punto z = (4+0j) \n",
      "\n",
      "· tiene un cero en el punto z = (5+0j) \n",
      "\n",
      "· tiene un cero en el punto z = (6+0j) \n",
      "\n",
      "· tiene un cero en el punto z = (7+0j) \n",
      "\n",
      "· tiene un cero en el punto z = (8+0j) \n",
      "\n",
      "· tiene un cero en el punto z = (9+0j) \n",
      "\n",
      "· tiene un cero en el punto z = (10+0j) \n",
      "\n",
      "· tiene un cero en el punto z = (11+0j) \n",
      "\n",
      "· tiene un cero en el punto z = (12+0j) \n",
      "\n",
      "· tiene un cero en el punto z = (13+0j) \n",
      "\n",
      "· tiene un cero en el punto z = (14+0j) \n",
      "\n",
      "· tiene un cero en el punto z = (15+0j) \n",
      "\n",
      "· tiene un cero en el punto z = (16+0j) \n",
      "\n",
      "· tiene un cero en el punto z = (17+0j) \n",
      "\n",
      "· tiene un cero en el punto z = (18+0j) \n",
      "\n",
      "· tiene un cero en el punto z = (19+0j) \n",
      "\n",
      "· tiene un cero en el punto z = (20+0j) \n",
      "\n"
     ]
    }
   ],
   "source": [
    "#Polinomio pérfido de Wilkinson (polinomio con raíces z=1,2,...,20)\n",
    "coeffs = [1, -210, 20615, -1256850, 53327946,-1672280820,40171771630,-756111184500,11310276995381,-135585182899530,\n",
    "          1307535010540395, -10142299865511450,63030812099294896,-311333643161390640, 1206647803780373360,-3599979517947607200,\n",
    "          8037811822645051776, -12870931245150988800, 13803759753640704000, -8752948036761600000, 2432902008176640000]\n",
    "z0 = 1+0*1j\n",
    "laguerre_horner_deflacion(coeffs,z0)"
   ]
  }
 ],
 "metadata": {
  "kernelspec": {
   "display_name": "Python 3 (ipykernel)",
   "language": "python",
   "name": "python3"
  },
  "language_info": {
   "codemirror_mode": {
    "name": "ipython",
    "version": 3
   },
   "file_extension": ".py",
   "mimetype": "text/x-python",
   "name": "python",
   "nbconvert_exporter": "python",
   "pygments_lexer": "ipython3",
   "version": "3.9.7"
  }
 },
 "nbformat": 4,
 "nbformat_minor": 5
}
