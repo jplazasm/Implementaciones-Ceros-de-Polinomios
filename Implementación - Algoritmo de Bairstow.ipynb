{
 "cells": [
  {
   "cell_type": "code",
   "execution_count": 1,
   "id": "0b683efc",
   "metadata": {},
   "outputs": [],
   "source": [
    "#Forma polinomial\n",
    "class Polynomial:\n",
    "    def __init__(self, coefficients,z0):\n",
    "        \n",
    "        self.coeffs=coefficients\n",
    "        self.point= z0\n",
    "        \n",
    "    def __str__(self):\n",
    "        out = ''\n",
    "        size = len(self.coeffs)\n",
    "        point = self.point\n",
    "        \n",
    "        for i in range(size-1):    \n",
    "            if self.coeffs[i] != 0:\n",
    "                out += ' + %s*(z-%s)^%d' % (self.coeffs[i], point,size-i-1) \n",
    "                \n",
    "        out += ' + %s' % (self.coeffs[-1])\n",
    "        out = out.replace('+ -', '- ')\n",
    "        out = out.replace('--', '+')\n",
    "        out = out.replace(' 1*', ' ')\n",
    "        out = out.replace(' *1', ' ')\n",
    "        out = out.replace(')^1 ', ') ')\n",
    "        out = out.replace('(z-0)', 'z')\n",
    "        out = out.replace('.0*', '*')    \n",
    "            \n",
    "        if out[0:3] == ' + ': \n",
    "            out = out[3:]\n",
    "            \n",
    "        if out[0:3] == ' - ':\n",
    "            out = '-' + out[3:]\n",
    "        return out"
   ]
  },
  {
   "cell_type": "code",
   "execution_count": 2,
   "id": "b2745035",
   "metadata": {},
   "outputs": [],
   "source": [
    "#Algoritmo de Bairstow\n",
    "def bairstow(coeffs, u, v, M = 20, r = 4):\n",
    "    u0 = [u][:]\n",
    "    v0 = [v][:]\n",
    "    for i in range(0,M):\n",
    "        b2 = coeffs[0]\n",
    "        c2 = 0\n",
    "        c1 = coeffs[0]\n",
    "        b1 = coeffs[1]+u*coeffs[0]\n",
    "        for k in reversed(range(0,len(coeffs)-2)):\n",
    "            b0 = list(reversed(coeffs))[k]+u*b1+v*b2 \n",
    "            c0 = b1+u*c1+v*c2\n",
    "            cp2 = c2\n",
    "            c2 = c1\n",
    "            cp1 = c1\n",
    "            c1 = c0\n",
    "            b2 = b1\n",
    "            bp1 = b1\n",
    "            b1 = b0\n",
    "        J = c0*cp2-cp1**2\n",
    "        u = u + (cp1*bp1-cp2*b0)/J\n",
    "        v = v + (cp1*b0-c0*bp1)/J\n",
    "    #print('Un factor cuadratico del polinomio es', [1, -round(u,r), -round(v,r)])\n",
    "    return print(\"\\n Aplicando el algoritmo de Bairstow con aproximaciones iniciales de\", \"(u\\u2080, v\\u2080) =\",\n",
    "                 (u0[0], v0[0]), \"se obtiene que \\n el polinomio p(z) =\", Polynomial(coeffs,0),\n",
    "                 \"tiene un factor cuadrático\", Polynomial([1, -round(u,r), -round(v,r)],0))"
   ]
  },
  {
   "cell_type": "code",
   "execution_count": 3,
   "id": "82fe2deb",
   "metadata": {},
   "outputs": [
    {
     "name": "stdout",
     "output_type": "stream",
     "text": [
      "\n",
      " Aplicando el algoritmo de Bairstow con aproximaciones iniciales de (u₀, v₀) = (3, -4) se obtiene que \n",
      " el polinomio p(z) = z^4 - 4*z^3 + 7*z^2 - 5*z - 2 tiene un factor cuadrático z^2 - 2.2757*z + 3.6274\n"
     ]
    }
   ],
   "source": [
    "#Ejemplo de uso\n",
    "coeffs = [1,-4,7,-5,-2] #Polinomio z^4 - 4z^3 + 7z^2 - 5z - 2\n",
    "(u,v) = (3,-4)\n",
    "bairstow(coeffs, u, v)"
   ]
  }
 ],
 "metadata": {
  "kernelspec": {
   "display_name": "Python 3 (ipykernel)",
   "language": "python",
   "name": "python3"
  },
  "language_info": {
   "codemirror_mode": {
    "name": "ipython",
    "version": 3
   },
   "file_extension": ".py",
   "mimetype": "text/x-python",
   "name": "python",
   "nbconvert_exporter": "python",
   "pygments_lexer": "ipython3",
   "version": "3.9.7"
  }
 },
 "nbformat": 4,
 "nbformat_minor": 5
}
