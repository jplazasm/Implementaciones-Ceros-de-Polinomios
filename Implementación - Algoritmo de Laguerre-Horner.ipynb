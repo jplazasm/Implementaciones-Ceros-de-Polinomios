{
 "cells": [
  {
   "cell_type": "code",
   "execution_count": 1,
   "id": "3df0fdca",
   "metadata": {},
   "outputs": [],
   "source": [
    "#Librerías\n",
    "import numpy as np"
   ]
  },
  {
   "cell_type": "code",
   "execution_count": 2,
   "id": "947f5377",
   "metadata": {},
   "outputs": [],
   "source": [
    "#Forma polinomial\n",
    "class Polynomial:\n",
    "    def __init__(self, coefficients,z0):\n",
    "        \n",
    "        self.coeffs=coefficients\n",
    "        self.point= z0\n",
    "        \n",
    "    def __str__(self):\n",
    "        out = ''\n",
    "        size = len(self.coeffs)\n",
    "        point = self.point\n",
    "        \n",
    "        for i in range(size-1):    \n",
    "            if self.coeffs[i] != 0:\n",
    "                out += ' + %s*(z-%s)^%d' % (self.coeffs[i], point,size-i-1) \n",
    "                \n",
    "        out += ' + %s' % (self.coeffs[-1])\n",
    "        out = out.replace('+ -', '- ')\n",
    "        out = out.replace('--', '+')\n",
    "        out = out.replace(' 1*', ' ')\n",
    "        out = out.replace(' *1', ' ')\n",
    "        out = out.replace(')^1 ', ') ')\n",
    "        out = out.replace('(z-0)', 'z')\n",
    "        out = out.replace('.0*', '*')    \n",
    "            \n",
    "        if out[0:3] == ' + ': \n",
    "            out = out[3:]\n",
    "            \n",
    "        if out[0:3] == ' - ':\n",
    "            out = '-' + out[3:]\n",
    "        return out"
   ]
  },
  {
   "cell_type": "code",
   "execution_count": 3,
   "id": "778cf666",
   "metadata": {},
   "outputs": [],
   "source": [
    "#Algoritmo de Laguerre-Horner\n",
    "def laguerre_horner(coeffs, z0, max_iter = 200, mydel = 1e-8):\n",
    "    '''p(x) = 0 usando el método de Laguerre\n",
    "    ----------\n",
    "    coeffs : vector de coeficientes, z0 : Aproximación inicial, \n",
    "    mydel : Tolerancia al incremento, max_iter : Número maximo de iteraciones\n",
    "    ----------  '''\n",
    "    z_0 = [z0][:]\n",
    "    z = z0\n",
    "    for k in range(1,max_iter):\n",
    "        a = coeffs[0]\n",
    "        b = 0\n",
    "        c = 0\n",
    "        for j in range(1,len(coeffs)):\n",
    "            c = b +z0*c\n",
    "            b = a + z0*b\n",
    "            a = z0*a + coeffs[j]\n",
    "        c = 2*c\n",
    "        if a == 0:\n",
    "            return print(\"\\n Aplicando el algoritmo de Laguerre-Horner con una aproximación inicial de\", u'z\\u2080 =',z_0[0],\n",
    "                          \"se obtiene que el polinomio \\n p(z) =\", Polynomial(coeffs,0), \"tiene un cero en el punto z =\", z,\n",
    "                         \"\\n\")\n",
    "        A = -b/a\n",
    "        B = A**2-c/a\n",
    "        n = len(coeffs)-1\n",
    "        if abs((A+np.sqrt((n-1)*(n*B-A**2)))/n) >= abs((A-np.sqrt((n-1)*(n*B-A**2)))/n):\n",
    "            C = (A+np.sqrt((n-1)*(n*B-A**2)))/n\n",
    "        else:\n",
    "            C = (A-np.sqrt((n-1)*(n*B-A**2)))/n\n",
    "        z = z+1/C\n",
    "        #print( 'z(',k,')=', z) #imprimir cada iteración del algoritmo    \n",
    "        if abs(z-z0) < mydel :\n",
    "            return print(\"\\n Aplicando el algoritmo de Laguerre-Horner con una aproximación inicial de\", u'z\\u2080 =',z_0[0],\n",
    "                          \"se obtiene que el polinomio \\n p(z) =\", Polynomial(coeffs,0), \"tiene un cero en el punto z =\", z,\n",
    "                         \"\\n\")\n",
    "        z0 = z\n",
    "    print('Número máximo de iteraciones alcanzado')\n",
    "    return None"
   ]
  },
  {
   "cell_type": "code",
   "execution_count": 4,
   "id": "52ef103b",
   "metadata": {},
   "outputs": [
    {
     "name": "stdout",
     "output_type": "stream",
     "text": [
      "\n",
      " Aplicando el algoritmo de Laguerre-Horner con una aproximación inicial de z₀ = -3.4 se obtiene que el polinomio \n",
      " p(z) = z^4 + 6*z^3 + 3*z^2 - 26*z - 24 tiene un cero en el punto z = -3.0 \n",
      "\n"
     ]
    }
   ],
   "source": [
    "#Ejemplo de uso\n",
    "coeffs = [1,6,3,-26,-24]\n",
    "z0 = -3.4\n",
    "laguerre_horner(coeffs,z0)"
   ]
  }
 ],
 "metadata": {
  "kernelspec": {
   "display_name": "Python 3 (ipykernel)",
   "language": "python",
   "name": "python3"
  },
  "language_info": {
   "codemirror_mode": {
    "name": "ipython",
    "version": 3
   },
   "file_extension": ".py",
   "mimetype": "text/x-python",
   "name": "python",
   "nbconvert_exporter": "python",
   "pygments_lexer": "ipython3",
   "version": "3.9.7"
  }
 },
 "nbformat": 4,
 "nbformat_minor": 5
}
