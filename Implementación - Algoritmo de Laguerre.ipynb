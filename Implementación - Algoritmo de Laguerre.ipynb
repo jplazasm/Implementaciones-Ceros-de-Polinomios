{
 "cells": [
  {
   "cell_type": "code",
   "execution_count": 1,
   "id": "c9375d68",
   "metadata": {},
   "outputs": [],
   "source": [
    "#Librerías\n",
    "import numpy as np"
   ]
  },
  {
   "cell_type": "code",
   "execution_count": 2,
   "id": "3a19b510",
   "metadata": {},
   "outputs": [],
   "source": [
    "#Forma polinomial\n",
    "class Polynomial:\n",
    "    def __init__(self, coefficients,z0):\n",
    "        \n",
    "        self.coeffs=coefficients\n",
    "        self.point= z0\n",
    "        \n",
    "    def __str__(self):\n",
    "        out = ''\n",
    "        size = len(self.coeffs)\n",
    "        point = self.point\n",
    "        \n",
    "        for i in range(size-1):    \n",
    "            if self.coeffs[i] != 0:\n",
    "                out += ' + %s*(z-%s)^%d' % (self.coeffs[i], point,size-i-1) \n",
    "                \n",
    "        out += ' + %s' % (self.coeffs[-1])\n",
    "        out = out.replace('+ -', '- ')\n",
    "        out = out.replace('--', '+')\n",
    "        out = out.replace(' 1*', ' ')\n",
    "        out = out.replace(' *1', ' ')\n",
    "        out = out.replace(')^1 ', ') ')\n",
    "        out = out.replace('(z-0)', 'z')\n",
    "        out = out.replace('.0*', '*')    \n",
    "            \n",
    "        if out[0:3] == ' + ': \n",
    "            out = out[3:]\n",
    "            \n",
    "        if out[0:3] == ' - ':\n",
    "            out = '-' + out[3:]\n",
    "        return out"
   ]
  },
  {
   "cell_type": "code",
   "execution_count": 3,
   "id": "9eb9b46c",
   "metadata": {},
   "outputs": [],
   "source": [
    "#Algoritmo de Laguerre\n",
    "def laguerre(p, dp, d2p, z0, coeffs, myeps = 1e-8 , mydel = 1e-8, max_iter = 100):\n",
    "    '''p(x)=0 usando el método de Laguerre\n",
    "    ----------\n",
    "    p : Polinomio, dp : Derivada de p, ddp : Segunda derivada de p, n : Grado del polinomio,\n",
    "    z0 : Aproximación inicial, max_iter : Número máximo de iteraciones\n",
    "    ---------- '''\n",
    "    z_0 = [z0][:]\n",
    "    z = z0\n",
    "    n = len(coeffs)-1\n",
    "    for k in range(1,max_iter):\n",
    "        pz = p(z)\n",
    "        if abs(pz) < myeps:\n",
    "            #print('residuo p(z(',k,'))=',pz)  #Residuo\n",
    "            #print( 'z(',k,')=',z) #Número de iteración \n",
    "            return print(\"\\n Aplicando el algoritmo de Laguerre con una aproximación inicial de\", u'z\\u2080 =',z_0[0],\n",
    "                          \"se obtiene que el polinomio \\n p(z) =\", Polynomial(coeffs,0), \"tiene un cero en el punto z =\", z,\n",
    "                         \"\\n\")          \n",
    "        if pz==0:\n",
    "            return print(\"\\n Aplicando el algoritmo de Laguerre con una aproximación inicial de\", u'z\\u2080 =',z_0[0],\n",
    "                          \"se obtiene que el polinomio \\n p(z) =\", Polynomial(coeffs,0), \"tiene un cero en el punto z =\", z,\n",
    "                         \"\\n\")\n",
    "        dpz = dp(z)\n",
    "        d2pz = d2p(z)\n",
    "        A = -dpz/pz\n",
    "        B = A**2-d2pz/pz\n",
    "        if abs((A+np.sqrt((n-1)*(n*B-A**2)))/n)>= abs((A-np.sqrt((n-1)*(n*B-A**2)))/n):\n",
    "            C = (A+np.sqrt((n-1)*(n*B-A**2)))/n\n",
    "        else:\n",
    "            C = (A-np.sqrt((n-1)*(n*B-A**2)))/n\n",
    "        z = z+1/C\n",
    "        #print( 'z(',k,')=', z)  #imprimir cada iteración del algoritmo   \n",
    "        if abs(z-z0) < mydel :\n",
    "            #print('incremento delta(',k,')=',pz)\n",
    "            return print(\"\\n Aplicando el algoritmo de Laguerre con una aproximación inicial de\", u'z\\u2080 =',z_0[0],\n",
    "                          \"se obtiene que el polinomio \\n p(z) =\", Polynomial(coeffs,0), \"tiene un cero en el punto z =\", z,\n",
    "                         \"\\n\")\n",
    "        z0 = z\n",
    "    print('Número máximo de iteraciones alcanzado')\n",
    "    return None"
   ]
  },
  {
   "cell_type": "code",
   "execution_count": 4,
   "id": "b1b3a68e",
   "metadata": {},
   "outputs": [
    {
     "name": "stdout",
     "output_type": "stream",
     "text": [
      "\n",
      " Aplicando el algoritmo de Laguerre con una aproximación inicial de z₀ = 1000 se obtiene que el polinomio \n",
      " p(z) = z^3 - 8 tiene un cero en el punto z = 2.0 \n",
      "\n"
     ]
    }
   ],
   "source": [
    "#Ejemplo de uso\n",
    "coeffs = [1,0,0,-8]\n",
    "p = lambda z: z**3-8\n",
    "dp = lambda z: 3*z**2\n",
    "d2p = lambda z: 6*z\n",
    "z0=1000\n",
    "\n",
    "laguerre(p, dp, d2p, z0, coeffs)"
   ]
  }
 ],
 "metadata": {
  "kernelspec": {
   "display_name": "Python 3 (ipykernel)",
   "language": "python",
   "name": "python3"
  },
  "language_info": {
   "codemirror_mode": {
    "name": "ipython",
    "version": 3
   },
   "file_extension": ".py",
   "mimetype": "text/x-python",
   "name": "python",
   "nbconvert_exporter": "python",
   "pygments_lexer": "ipython3",
   "version": "3.9.7"
  }
 },
 "nbformat": 4,
 "nbformat_minor": 5
}
