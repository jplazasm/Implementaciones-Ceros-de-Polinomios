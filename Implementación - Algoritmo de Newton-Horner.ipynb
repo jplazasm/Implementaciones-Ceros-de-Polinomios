{
 "cells": [
  {
   "cell_type": "code",
   "execution_count": 1,
   "id": "2eee4b65",
   "metadata": {},
   "outputs": [],
   "source": [
    "#Forma polinomial\n",
    "class Polynomial:\n",
    "    def __init__(self, coefficients,z0):\n",
    "        \n",
    "        self.coeffs=coefficients\n",
    "        self.point= z0\n",
    "        \n",
    "    def __str__(self):\n",
    "        out = ''\n",
    "        size = len(self.coeffs)\n",
    "        point = self.point\n",
    "        \n",
    "        for i in range(size-1):    \n",
    "            if self.coeffs[i] != 0:\n",
    "                out += ' + %s*(z-%s)^%d' % (self.coeffs[i], point,size-i-1) \n",
    "                \n",
    "        out += ' + %s' % (self.coeffs[-1])\n",
    "        out = out.replace('+ -', '- ')\n",
    "        out = out.replace('--', '+')\n",
    "        out = out.replace(' 1*', ' ')\n",
    "        out = out.replace(' *1', ' ')\n",
    "        out = out.replace(')^1 ', ') ')\n",
    "        out = out.replace('(z-0)', 'z')\n",
    "        out = out.replace('.0*', '*')    \n",
    "            \n",
    "        if out[0:3] == ' + ': \n",
    "            out = out[3:]\n",
    "            \n",
    "        if out[0:3] == ' - ':\n",
    "            out = '-' + out[3:]\n",
    "        return out"
   ]
  },
  {
   "cell_type": "code",
   "execution_count": 2,
   "id": "be9b51d7",
   "metadata": {},
   "outputs": [],
   "source": [
    "#Algoritmo de Newton-Horner \n",
    "def newton_horner(coeffs, z0, max_iter = 200, tol = 1e-12):\n",
    "    '''p(x) = 0 usando Newton-Horner\n",
    "    ----------\n",
    "    coeffs : vector de coeficientes en orden descendiente, z0 : aproximación inicial, \n",
    "    tol : tolerancia al incremento, max_iter : número maximo de iteraciones\n",
    "    ----------  '''\n",
    "    z_0 = [z0][:]\n",
    "    z = z0\n",
    "    for k in range(1, max_iter):\n",
    "        a = coeffs[0]\n",
    "        b = 0\n",
    "        for j in range(1,len(coeffs)):\n",
    "            b = a + z*b\n",
    "            a = z*a + coeffs[j]\n",
    "        if b == 0:\n",
    "            print('Derivada nula. Error!')\n",
    "            return None        \n",
    "        z = z - a/b\n",
    "        #print( 'z(',k,')=',z) #imprimir cada iteración del algoritmo\n",
    "        if abs(z-z0) < tol:\n",
    "            return  print(\"\\n Aplicando el algoritmo de Newton-Horner con una aproximación inicial de\", u'z\\u2080 =',z_0[0],\n",
    "                          \"se obtiene que el polinomio \\n p(z) =\", Polynomial(coeffs,0), \"tiene un cero en el punto z =\", z0,\n",
    "                         \"\\n\")\n",
    "        z0 = z\n",
    "    print('Número maximo de iteraciones alcanzado')\n",
    "    return None"
   ]
  },
  {
   "cell_type": "code",
   "execution_count": 3,
   "id": "df866572",
   "metadata": {},
   "outputs": [
    {
     "name": "stdout",
     "output_type": "stream",
     "text": [
      "\n",
      " Aplicando el algoritmo de Newton-Horner con una aproximación inicial de z₀ = 20 se obtiene que el polinomio \n",
      " p(z) = -z^3 + z^2 - 4*z - 8 tiene un cero en el punto z = -1.2029812583169375 \n",
      "\n"
     ]
    }
   ],
   "source": [
    "#Ejemplo de uso\n",
    "coeffs = [-1, 1, -4, -8] #polinomio -z^3 + z^2 - 4z - 8\n",
    "z0 = 20\n",
    "newton_horner(coeffs,z0)"
   ]
  }
 ],
 "metadata": {
  "kernelspec": {
   "display_name": "Python 3 (ipykernel)",
   "language": "python",
   "name": "python3"
  },
  "language_info": {
   "codemirror_mode": {
    "name": "ipython",
    "version": 3
   },
   "file_extension": ".py",
   "mimetype": "text/x-python",
   "name": "python",
   "nbconvert_exporter": "python",
   "pygments_lexer": "ipython3",
   "version": "3.9.7"
  }
 },
 "nbformat": 4,
 "nbformat_minor": 5
}
