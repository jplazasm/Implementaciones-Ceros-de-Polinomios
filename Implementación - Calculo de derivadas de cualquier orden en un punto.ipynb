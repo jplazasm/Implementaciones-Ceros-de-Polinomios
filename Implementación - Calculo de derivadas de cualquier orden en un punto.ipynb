{
 "cells": [
  {
   "cell_type": "code",
   "execution_count": 1,
   "id": "0bf28ffc",
   "metadata": {},
   "outputs": [],
   "source": [
    "#Librerías\n",
    "import numpy as np\n",
    "import math as m"
   ]
  },
  {
   "cell_type": "code",
   "execution_count": 2,
   "id": "f3b320bd",
   "metadata": {},
   "outputs": [],
   "source": [
    "#Forma polinomial\n",
    "class Polynomial:\n",
    "    def __init__(self, coefficients,z0):\n",
    "        \n",
    "        self.coeffs=coefficients\n",
    "        self.point= z0\n",
    "        \n",
    "    def __str__(self):\n",
    "        out = ''\n",
    "        size = len(self.coeffs)\n",
    "        point = self.point\n",
    "        \n",
    "        for i in range(size-1):    \n",
    "            if self.coeffs[i] != 0:\n",
    "                out += ' + %s*(z-%s)^%d' % (self.coeffs[i], point,size-i-1) \n",
    "                \n",
    "        out += ' + %s' % (self.coeffs[-1])\n",
    "        out = out.replace('+ -', '- ')\n",
    "        out = out.replace('--', '+')\n",
    "        out = out.replace(' 1*', ' ')\n",
    "        out = out.replace(' *1', ' ')\n",
    "        out = out.replace(')^1 ', ') ')\n",
    "        out = out.replace('(z-0)', 'z')\n",
    "        out = out.replace('.0*', '*')    \n",
    "            \n",
    "        if out[0:3] == ' + ': \n",
    "            out = out[3:]\n",
    "            \n",
    "        if out[0:3] == ' - ':\n",
    "            out = '-' + out[3:]\n",
    "        return out\n",
    "    \n",
    "#Output\n",
    "def output_derivates(derivates, coefficients):\n",
    "    for k in range(0, len(derivates)): \n",
    "        print('\\xb7',\"El valor de la\",k,\"- ésima derivada del polinomio\", Polynomial(coefficients,0) ,\n",
    "              \"en el punto\", u'z\\u2080 =',z0, \"es\", derivates[k])"
   ]
  },
  {
   "cell_type": "code",
   "execution_count": 3,
   "id": "f005393c",
   "metadata": {},
   "outputs": [],
   "source": [
    "#Cálculo de las derivadas del polinomio coeffs en z0\n",
    "def derivates(coeffs,z0):\n",
    "    coefficients = coeffs[:]\n",
    "    tay = np.zeros(len(coeffs))\n",
    "    for i in reversed(range(0,len(coeffs))):       \n",
    "        for j in range(1,len(coeffs)):\n",
    "            coeffs[j] = z0*coeffs[j-1] + coeffs[j]\n",
    "        tay[i]= coeffs[-1]\n",
    "        coeffs.pop(-1)\n",
    "    tay = np.flip(tay)\n",
    "    for i in range(0, len(tay)):\n",
    "        tay[i] = m.factorial(i)*tay[i]\n",
    "    return output_derivates(tay, coefficients)"
   ]
  },
  {
   "cell_type": "code",
   "execution_count": 4,
   "id": "cc02c0a7",
   "metadata": {
    "scrolled": false
   },
   "outputs": [
    {
     "name": "stdout",
     "output_type": "stream",
     "text": [
      "· El valor de la 0 - ésima derivada del polinomio z^4 - 3*z^3 + 7*z^2 - 5*z - 2 en el punto z₀ = 5 es 398.0\n",
      "· El valor de la 1 - ésima derivada del polinomio z^4 - 3*z^3 + 7*z^2 - 5*z - 2 en el punto z₀ = 5 es 340.0\n",
      "· El valor de la 2 - ésima derivada del polinomio z^4 - 3*z^3 + 7*z^2 - 5*z - 2 en el punto z₀ = 5 es 224.0\n",
      "· El valor de la 3 - ésima derivada del polinomio z^4 - 3*z^3 + 7*z^2 - 5*z - 2 en el punto z₀ = 5 es 102.0\n",
      "· El valor de la 4 - ésima derivada del polinomio z^4 - 3*z^3 + 7*z^2 - 5*z - 2 en el punto z₀ = 5 es 24.0\n"
     ]
    }
   ],
   "source": [
    "#Ejemplo de uso \n",
    "coeffs = [1,-3,7,-5,-2] #Polinomio z^4-3z^3+7z^2-5z-2\n",
    "z0 = 5\n",
    "derivates(coeffs, z0)"
   ]
  }
 ],
 "metadata": {
  "kernelspec": {
   "display_name": "Python 3 (ipykernel)",
   "language": "python",
   "name": "python3"
  },
  "language_info": {
   "codemirror_mode": {
    "name": "ipython",
    "version": 3
   },
   "file_extension": ".py",
   "mimetype": "text/x-python",
   "name": "python",
   "nbconvert_exporter": "python",
   "pygments_lexer": "ipython3",
   "version": "3.9.7"
  }
 },
 "nbformat": 4,
 "nbformat_minor": 5
}
