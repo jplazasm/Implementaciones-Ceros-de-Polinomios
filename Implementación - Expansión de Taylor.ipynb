{
 "cells": [
  {
   "cell_type": "code",
   "execution_count": 1,
   "id": "13319421",
   "metadata": {},
   "outputs": [],
   "source": [
    "#Librerías\n",
    "import numpy as np "
   ]
  },
  {
   "cell_type": "code",
   "execution_count": 2,
   "id": "40d2e79e",
   "metadata": {},
   "outputs": [],
   "source": [
    "#Forma polinomial\n",
    "class Polynomial:\n",
    "    def __init__(self, coefficients,z0):\n",
    "        \n",
    "        self.coeffs=coefficients\n",
    "        self.point= z0\n",
    "        \n",
    "    def __str__(self):\n",
    "        out = ''\n",
    "        size = len(self.coeffs)\n",
    "        point = self.point\n",
    "        \n",
    "        for i in range(size-1):    \n",
    "            if self.coeffs[i] != 0:\n",
    "                out += ' + %s*(z-%s)^%d' % (self.coeffs[i], point,size-i-1) \n",
    "                \n",
    "        out += ' + %s' % (self.coeffs[-1])\n",
    "        out = out.replace('+ -', '- ')\n",
    "        out = out.replace('--', '+')\n",
    "        out = out.replace(' 1*', ' ')\n",
    "        out = out.replace(' *1', ' ')\n",
    "        out = out.replace(')^1 ', ') ')\n",
    "        out = out.replace('(z-0)', 'z')\n",
    "        out = out.replace('.0*', '*')    \n",
    "            \n",
    "        if out[0:3] == ' + ': \n",
    "            out = out[3:]\n",
    "            \n",
    "        if out[0:3] == ' - ':\n",
    "            out = '-' + out[3:]\n",
    "        return out"
   ]
  },
  {
   "cell_type": "code",
   "execution_count": 3,
   "id": "fb28d893",
   "metadata": {},
   "outputs": [],
   "source": [
    "#Serie de Taylor de un polinomio con coeficientes coeffs alrededor de z0\n",
    "def taylor(coeffs,z0):\n",
    "    coefficients = coeffs[:]\n",
    "    tay = np.zeros(len(coeffs))\n",
    "    for i in reversed(range(0,len(coeffs))):\n",
    "        \n",
    "        for j in range(1,len(coeffs)):\n",
    "            coeffs[j] = z0*coeffs[j-1] + coeffs[j]\n",
    "            \n",
    "        tay[i]= coeffs[-1]\n",
    "        coeffs.pop(-1)\n",
    "        \n",
    "    return print(\"La expansión de Taylor del polinomio\", Polynomial(coefficients,0),\"es: \\n\", Polynomial(tay,z0))"
   ]
  },
  {
   "cell_type": "code",
   "execution_count": 4,
   "id": "b69c90d8",
   "metadata": {},
   "outputs": [
    {
     "name": "stdout",
     "output_type": "stream",
     "text": [
      "La expansión de Taylor del polinomio 3*z^4 - 4*z^3 - 7*z^2 - 5*z - 4 es: \n",
      " 3*(z-7)^4 + 80*(z-7)^3 + 791*(z-7)^2 + 3425*(z-7) + 5449.0\n"
     ]
    }
   ],
   "source": [
    "#Ejemplo de uso \n",
    "coeffs = [3,-4,-7,-5,-4] #Polinomio 3z^4-4z^3-7z^2-5z-4\n",
    "z0 = 7\n",
    "taylor(coeffs,z0)"
   ]
  }
 ],
 "metadata": {
  "kernelspec": {
   "display_name": "Python 3 (ipykernel)",
   "language": "python",
   "name": "python3"
  },
  "language_info": {
   "codemirror_mode": {
    "name": "ipython",
    "version": 3
   },
   "file_extension": ".py",
   "mimetype": "text/x-python",
   "name": "python",
   "nbconvert_exporter": "python",
   "pygments_lexer": "ipython3",
   "version": "3.9.7"
  }
 },
 "nbformat": 4,
 "nbformat_minor": 5
}
